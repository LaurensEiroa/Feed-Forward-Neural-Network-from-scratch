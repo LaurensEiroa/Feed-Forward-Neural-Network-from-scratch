{
  "nbformat": 4,
  "nbformat_minor": 0,
  "metadata": {
    "colab": {
      "name": "ANN_from_scratch.ipynb",
      "provenance": [],
      "authorship_tag": "ABX9TyMxqe5VohV/GOCZ93strlDI",
      "include_colab_link": true
    },
    "kernelspec": {
      "name": "python3",
      "display_name": "Python 3"
    }
  },
  "cells": [
    {
      "cell_type": "markdown",
      "metadata": {
        "id": "view-in-github",
        "colab_type": "text"
      },
      "source": [
        "<a href=\"https://colab.research.google.com/github/LaurensEiroa/Feed-Forward-Neural-Network-from-scratch/blob/master/ANN_from_scratch.ipynb\" target=\"_parent\"><img src=\"https://colab.research.google.com/assets/colab-badge.svg\" alt=\"Open In Colab\"/></a>"
      ]
    },
    {
      "cell_type": "markdown",
      "metadata": {
        "id": "Kp2eiVD2hYVu",
        "colab_type": "text"
      },
      "source": [
        "Import needed libraries."
      ]
    },
    {
      "cell_type": "code",
      "metadata": {
        "id": "2lKe6NCUg5Eg",
        "colab_type": "code",
        "outputId": "7d27cfb5-bab5-4fc5-b403-4cedd3571184",
        "colab": {
          "base_uri": "https://localhost:8080/",
          "height": 265
        }
      },
      "source": [
        "import numpy as np\n",
        "import scipy as sc\n",
        "import matplotlib.pyplot as plt\n",
        "from sklearn.datasets import make_circles"
      ],
      "execution_count": 0,
      "outputs": [
        {
          "output_type": "display_data",
          "data": {
            "image/png": "[encoded data removed]",
            "text/plain": [
              "<Figure size 432x288 with 1 Axes>"
            ]
          },
          "metadata": {
            "tags": []
          }
        }
      ]
    },
    {
      "cell_type": "markdown",
      "metadata": {
        "id": "mUFdCc2mhlLZ",
        "colab_type": "text"
      },
      "source": [
        "Create classification input data."
      ]
    },
    {
      "cell_type": "code",
      "metadata": {
        "id": "51KakiXBhlW5",
        "colab_type": "code",
        "colab": {}
      },
      "source": [
        "input_samples = 1000\n",
        "X, Y = make_circles(n_samples=input_samples, factor=0.5, noise=0.05)\n",
        "Y = Y[:, np.newaxis]"
      ],
      "execution_count": 0,
      "outputs": []
    },
    {
      "cell_type": "markdown",
      "metadata": {
        "id": "lfaf3AHVhlgL",
        "colab_type": "text"
      },
      "source": [
        "\n",
        "\n",
        "Input data plot.\n"
      ]
    },
    {
      "cell_type": "code",
      "metadata": {
        "id": "GWMUpNBWhWXO",
        "colab_type": "code",
        "colab": {}
      },
      "source": [
        "plt.scatter(X[Y[:, 0] == 0, 0], X[Y[:, 0] == 0, 1], c=\"b\")\n",
        "plt.scatter(X[Y[:, 0] == 1, 0], X[Y[:, 0] == 1, 1], c=\"r\")\n",
        "plt.axis(\"equal\")\n",
        "plt.show()"
      ],
      "execution_count": 0,
      "outputs": []
    },
    {
      "cell_type": "markdown",
      "metadata": {
        "id": "85DCdLDxhqiV",
        "colab_type": "text"
      },
      "source": [
        "Class an functions designated for creating the ANN model"
      ]
    },
    {
      "cell_type": "code",
      "metadata": {
        "id": "G7OUMQWBg6m1",
        "colab_type": "code",
        "colab": {}
      },
      "source": [
        "class layer:\n",
        "    def __init__(self, _connections, _neurons):\n",
        "        self.bias = np.random.uniform(0, 0.5, (1, _neurons))\n",
        "        self.weights = np.random.uniform(-1, 1, (_connections, _neurons))\n",
        "\n",
        "\n",
        "def create_model(_topo):\n",
        "    model = []\n",
        "    for l in range(len(_topo) - 1):\n",
        "        model.append(layer(_topo[l], _topo[l + 1]))\n",
        "    return model"
      ],
      "execution_count": 0,
      "outputs": []
    },
    {
      "cell_type": "markdown",
      "metadata": {
        "id": "c80XrsJrhtp2",
        "colab_type": "text"
      },
      "source": [
        "Forward and backward passes.\n"
      ]
    },
    {
      "cell_type": "code",
      "metadata": {
        "id": "BIxwtk5jg9RL",
        "colab_type": "code",
        "colab": {}
      },
      "source": [
        "def forward_pass(model, X, f):\n",
        "    neural_values = [X]\n",
        "    for l in range(len(model)):\n",
        "        neuron_input = neural_values[l] @ model[l].weights + model[l].bias\n",
        "        activation = f(neuron_input)\n",
        "        neural_values.append(activation)\n",
        "    return neural_values\n",
        "\n",
        "\n",
        "def backward_pass(model, X, Y, cost, df, neural_values, lr):\n",
        "    for l in reversed(range(1, len(neural_values))):\n",
        "        activation = neural_values[l]\n",
        "        previous_layer_activation = neural_values[l-1]\n",
        "        if l == len(neural_values)-1:\n",
        "            error = cost(activation, Y) * df(activation)\n",
        "        else:\n",
        "            error = error @ model[l].weights.T * df(activation)\n",
        "        # Adjust weights and biases using the backpropagation algorithm\n",
        "        model[l-1].weights -= lr * previous_layer_activation.T @ error\n",
        "        model[l-1].bias -= lr * np.mean(error, axis=0, keepdims=True)\n",
        "\n",
        "\n",
        "def train(model, X, Y, l2_cost, f, df, lr=0.01, train=True):\n",
        "    neural_values = forward_pass(model, X, f)\n",
        "    if train:\n",
        "        backward_pass(model, X, Y, l2_cost, df, neural_values, lr)\n",
        "    return neural_values[-1]"
      ],
      "execution_count": 0,
      "outputs": []
    },
    {
      "cell_type": "markdown",
      "metadata": {
        "id": "M5THmTzthub0",
        "colab_type": "text"
      },
      "source": [
        "Loss and activation functions and its derivates."
      ]
    },
    {
      "cell_type": "code",
      "metadata": {
        "id": "ZsAZom7whDI3",
        "colab_type": "code",
        "colab": {}
      },
      "source": [
        "sigm = lambda x: 1 / (1 + np.exp(-x))\n",
        "sigm_err = lambda x: sigm(x) * (1 - sigm(x))\n",
        "l2_cost = lambda Yp, Yr: np.mean((Yp - Yr) ** 2)\n",
        "l2_cost_back = lambda Yp, Yr: np.abs(Yp - Yr)"
      ],
      "execution_count": 0,
      "outputs": []
    },
    {
      "cell_type": "markdown",
      "metadata": {
        "id": "782sbUaDhxk8",
        "colab_type": "text"
      },
      "source": [
        "\n",
        "\n",
        "Topology and cretion of the model\n",
        "\n"
      ]
    },
    {
      "cell_type": "code",
      "metadata": {
        "id": "--LwZC9GhxzI",
        "colab_type": "code",
        "colab": {}
      },
      "source": [
        "topology = [input_nodes, 4, 6, 1]\n",
        "neural_net = create_model(topology)"
      ],
      "execution_count": 0,
      "outputs": []
    },
    {
      "cell_type": "markdown",
      "metadata": {
        "id": "Kgc4NT6VhyJW",
        "colab_type": "text"
      },
      "source": [
        "Train the model"
      ]
    },
    {
      "cell_type": "code",
      "metadata": {
        "id": "rFegoWl7hD5u",
        "colab_type": "code",
        "outputId": "23ae496f-bf01-4640-c53c-8dc73c53b4bc",
        "colab": {
          "base_uri": "https://localhost:8080/",
          "height": 1000
        }
      },
      "source": [
        "training_epochs = 500000\n",
        "interval = 1000\n",
        "loss = []\n",
        "for i in range(training_epochs):\n",
        "    result = train(neural_net, X, Y, l2_cost_back, sigm, sigm_err, lr=0.01)\n",
        "    if i % interval == 0:\n",
        "        loss.append(l2_cost(result, Y))\n",
        "        print(loss[-1])"
      ],
      "execution_count": 0,
      "outputs": [
        {
          "output_type": "stream",
          "text": [
            "0.1350378858469902\n",
            "0.12670300439837484\n",
            "0.09498619923192984\n",
            "0.05798071429229464\n",
            "0.027721384685939075\n",
            "0.010215468819871043\n",
            "0.006356180700595194\n",
            "0.003962659823370813\n",
            "0.001713469625821964\n",
            "0.0007182548558454644\n",
            "0.0004691494539162533\n",
            "0.000368516201199702\n",
            "0.00030813636020039244\n",
            "0.00026640334285837056\n",
            "0.00023541392756671787\n",
            "0.00021132518881233434\n",
            "0.0001919804704467626\n",
            "0.0001760580877593637\n",
            "0.00016269588618640033\n",
            "0.00015130416034310538\n",
            "0.00014146424858584668\n",
            "0.0001328698837149446\n",
            "0.00012529144492256147\n",
            "0.00011855320528767357\n",
            "0.00011251831822260297\n",
            "0.00010707860346634836\n",
            "0.00010214741360663463\n",
            "9.765453660301357e-05\n",
            "9.354247873972987e-05\n",
            "8.976370523214607e-05\n",
            "8.627855952366612e-05\n",
            "8.305367344550819e-05\n",
            "8.006073927150986e-05\n",
            "7.727555323823973e-05\n",
            "7.46772656331521e-05\n",
            "7.22477897280685e-05\n",
            "6.997133366131949e-05\n",
            "6.783402778679912e-05\n",
            "6.582362622522655e-05\n",
            "6.39292661032879e-05\n",
            "6.214127167831358e-05\n",
            "6.04509934726291e-05\n",
            "5.885067484340664e-05\n",
            "5.733334020695832e-05\n",
            "5.589270051560457e-05\n",
            "5.452307263248703e-05\n",
            "5.321931003616065e-05\n",
            "5.197674287290104e-05\n",
            "5.079112580991096e-05\n",
            "4.965859246609495e-05\n",
            "4.857561543893844e-05\n",
            "4.7538971128625044e-05\n",
            "4.654570870026073e-05\n",
            "4.559312263375788e-05\n",
            "4.467872839692669e-05\n",
            "4.380024084647698e-05\n",
            "4.295555501824226e-05\n",
            "4.214272901480052e-05\n",
            "4.1359968738018854e-05\n",
            "4.060561424733359e-05\n",
            "3.9878127552985115e-05\n",
            "3.9176081677778336e-05\n",
            "3.849815084190812e-05\n",
            "3.784310164351945e-05\n",
            "3.720978512336057e-05\n",
            "3.659712961549093e-05\n",
            "3.600413429785468e-05\n",
            "3.542986336681273e-05\n",
            "3.487344076869408e-05\n",
            "3.4334045429246757e-05\n",
            "3.381090692872091e-05\n",
            "3.3303301576257364e-05\n",
            "3.281054884253185e-05\n",
            "3.233200811414748e-05\n",
            "3.186707573735511e-05\n",
            "3.141518232218597e-05\n",
            "3.0975790281230356e-05\n",
            "3.054839158006852e-05\n",
            "3.0132505678777025e-05\n",
            "2.9727677646127263e-05\n",
            "2.933347642998897e-05\n",
            "2.894949326917836e-05\n",
            "2.8575340233490883e-05\n",
            "2.8210648880023893e-05\n",
            "2.7855069015098148e-05\n",
            "2.7508267552150013e-05\n",
            "2.7169927456954064e-05\n",
            "2.6839746772372027e-05\n",
            "2.6517437715604956e-05\n",
            "2.620272584161208e-05\n",
            "2.589534926698397e-05\n",
            "2.5595057949096285e-05\n",
            "2.5301613015884616e-05\n",
            "2.5014786142012648e-05\n",
            "2.473435896761178e-05\n",
            "2.446012255613029e-05\n",
            "2.4191876888149315e-05\n",
            "2.3929430388314195e-05\n",
            "2.367259948279157e-05\n",
            "2.3421208184896105e-05\n",
            "2.317508770673833e-05\n",
            "2.2934076094944857e-05\n",
            "2.26980178886635e-05\n",
            "2.2466763798222615e-05\n",
            "2.2240170402960592e-05\n",
            "2.201809986685739e-05\n",
            "2.18004196707201e-05\n",
            "2.1587002359776855e-05\n",
            "2.137772530562568e-05\n",
            "2.1172470481568438e-05\n",
            "2.097112425044194e-05\n",
            "2.0773577164119295e-05\n",
            "2.0579723773930228e-05\n",
            "2.038946245129283e-05\n",
            "2.0202695217914125e-05\n",
            "2.0019327584959507e-05\n",
            "1.9839268400631874e-05\n",
            "1.9662429705650066e-05\n",
            "1.9488726596145634e-05\n",
            "1.9318077093532608e-05\n",
            "1.9150402020939214e-05\n",
            "1.8985624885813194e-05\n",
            "1.8823671768346004e-05\n",
            "1.866447121537554e-05\n",
            "1.850795413945961e-05\n",
            "1.8354053722827698e-05\n",
            "1.8202705325935698e-05\n",
            "1.8053846400369146e-05\n",
            "1.790741640585724e-05\n",
            "1.7763356731172802e-05\n",
            "1.7621610618707235e-05\n",
            "1.7482123092525254e-05\n",
            "1.7344840889711803e-05\n",
            "1.7209712394840924e-05\n",
            "1.7076687577399507e-05\n",
            "1.6945717932016e-05\n",
            "1.6816756421346193e-05\n",
            "1.6689757421482544e-05\n",
            "1.656467666975676e-05\n",
            "1.6441471214817018e-05\n",
            "1.6320099368866372e-05\n",
            "1.620052066195064e-05\n",
            "1.608269579819899e-05\n",
            "1.5966586613920843e-05\n",
            "1.5852156037465446e-05\n",
            "1.5739368050763535e-05\n",
            "1.5628187652466388e-05\n",
            "1.551858082260848e-05\n",
            "1.541051448871806e-05\n",
            "1.5303956493313317e-05\n",
            "1.5198875562713424e-05\n",
            "1.5095241277105812e-05\n",
            "1.4993024041811463e-05\n",
            "1.4892195059692908e-05\n",
            "1.4792726304652383e-05\n",
            "1.4694590496171588e-05\n",
            "1.4597761074846961e-05\n",
            "1.4502212178869455e-05\n",
            "1.4407918621417405e-05\n",
            "1.4314855868912392e-05\n",
            "1.4223000020105646e-05\n",
            "1.413232778595563e-05\n",
            "1.4042816470264123e-05\n",
            "1.3954443951037052e-05\n",
            "1.3867188662539592e-05\n",
            "1.3781029578015608e-05\n",
            "1.3695946193041351e-05\n",
            "1.3611918509489942e-05\n",
            "1.3528927020078273e-05\n",
            "1.3446952693473117e-05\n",
            "1.3365976959932732e-05\n",
            "1.3285981697461209e-05\n",
            "1.3206949218456205e-05\n",
            "1.3128862256828882e-05\n",
            "1.3051703955575419e-05\n",
            "1.2975457854785093e-05\n",
            "1.2900107880063346e-05\n",
            "1.2825638331356977e-05\n",
            "1.275203387216253e-05\n",
            "1.2679279519105087e-05\n",
            "1.2607360631870056e-05\n",
            "1.2536262903477115e-05\n",
            "1.246597235088144e-05\n",
            "1.2396475305888104e-05\n",
            "1.2327758406371747e-05\n",
            "1.225980858778429e-05\n",
            "1.2192613074944543e-05\n",
            "1.2126159374096437e-05\n",
            "1.2060435265225541e-05\n",
            "1.1995428794625904e-05\n",
            "1.1931128267706386e-05\n",
            "1.1867522242027489e-05\n",
            "1.1804599520561312e-05\n",
            "1.1742349145165535e-05\n",
            "1.1680760390263663e-05\n",
            "1.1619822756724485e-05\n",
            "1.1559525965932504e-05\n",
            "1.1499859954042935e-05\n",
            "1.1440814866415996e-05\n",
            "1.1382381052221886e-05\n",
            "1.1324549059210289e-05\n",
            "1.1267309628642321e-05\n",
            "1.1210653690373986e-05\n",
            "1.1154572358089389e-05\n",
            "1.109905692467675e-05\n",
            "1.1044098857744068e-05\n",
            "1.0989689795266963e-05\n",
            "1.0935821541366853e-05\n",
            "1.0882486062212215e-05\n",
            "1.0829675482042028e-05\n",
            "1.077738207930402e-05\n",
            "1.0725598282906333e-05\n",
            "1.0674316668577423e-05\n",
            "1.0623529955329513e-05\n",
            "1.0573231002025798e-05\n",
            "1.052341280404484e-05\n",
            "1.0474068490038324e-05\n",
            "1.0425191318782981e-05\n",
            "1.0376774676118684e-05\n",
            "1.0328812071975073e-05\n",
            "1.0281297137478512e-05\n",
            "1.0234223622141248e-05\n",
            "1.0187585391127348e-05\n",
            "1.0141376422594689e-05\n",
            "1.0095590805108804e-05\n",
            "1.005022273512809e-05\n",
            "1.0005266514556999e-05\n",
            "9.960716548365889e-06\n",
            "9.916567342274004e-06\n",
            "9.872813500494977e-06\n",
            "9.829449723543358e-06\n",
            "9.786470806098305e-06\n",
            "9.743871634923563e-06\n",
            "9.701647186844152e-06\n",
            "9.659792526773612e-06\n",
            "9.618302805795127e-06\n",
            "9.577173259290363e-06\n",
            "9.536399205118482e-06\n",
            "9.4959760418411e-06\n",
            "9.455899246993589e-06\n",
            "9.41616437539932e-06\n",
            "9.376767057528881e-06\n",
            "9.337702997898642e-06\n",
            "9.298967973511475e-06\n",
            "9.26055783233548e-06\n",
            "9.222468491821782e-06\n",
            "9.18469593745821e-06\n",
            "9.147236221360485e-06\n",
            "9.110085460896578e-06\n",
            "9.073239837345738e-06\n",
            "9.036695594590762e-06\n",
            "9.000449037841433e-06\n",
            "8.964496532389135e-06\n",
            "8.928834502393e-06\n",
            "8.893459429693097e-06\n",
            "8.858367852654259e-06\n",
            "8.823556365036036e-06\n",
            "8.789021614890877e-06\n",
            "8.754760303487155e-06\n",
            "8.720769184259602e-06\n",
            "8.68704506178201e-06\n",
            "8.65358479076618e-06\n",
            "8.620385275083123e-06\n",
            "8.587443466807751e-06\n",
            "8.554756365285306e-06\n",
            "8.522321016219142e-06\n",
            "8.490134510780412e-06\n",
            "8.458193984737462e-06\n",
            "8.426496617605246e-06\n",
            "8.395039631814423e-06\n",
            "8.363820291898783e-06\n",
            "8.332835903701777e-06\n",
            "8.302083813600062e-06\n",
            "8.271561407745263e-06\n",
            "8.241266111321743e-06\n",
            "8.21119538782248e-06\n",
            "8.18134673833906e-06\n",
            "8.151717700868876e-06\n",
            "8.122305849636929e-06\n",
            "8.0931087944328e-06\n",
            "8.06412417996138e-06\n",
            "8.035349685208871e-06\n",
            "8.00678302282207e-06\n",
            "7.978421938500748e-06\n",
            "7.950264210403166e-06\n",
            "7.922307648565351e-06\n",
            "7.8945500943314e-06\n",
            "7.866989419796609e-06\n",
            "7.83962352726303e-06\n",
            "7.812450348705199e-06\n",
            "7.785467845248227e-06\n",
            "7.75867400665676e-06\n",
            "7.732066850833808e-06\n",
            "7.705644423331085e-06\n",
            "7.679404796869382e-06\n",
            "7.65334607086757e-06\n",
            "7.627466370983489e-06\n",
            "7.6017638486628075e-06\n",
            "7.576236680697058e-06\n",
            "7.5508830687918835e-06\n",
            "7.5257012391430695e-06\n",
            "7.500689442021135e-06\n",
            "7.475845951365822e-06\n",
            "7.4511690643859645e-06\n",
            "7.4266571011704905e-06\n",
            "7.402308404305446e-06\n",
            "7.378121338499041e-06\n",
            "7.3540942902137545e-06\n",
            "7.330225667306819e-06\n",
            "7.306513898676907e-06\n",
            "7.282957433917715e-06\n",
            "7.2595547429792695e-06\n",
            "7.236304315834899e-06\n",
            "7.21320466215533e-06\n",
            "7.190254310988629e-06\n",
            "7.1674518104467505e-06\n",
            "7.144795727398097e-06\n",
            "7.122284647165903e-06\n",
            "7.099917173232408e-06\n",
            "7.077691926948604e-06\n",
            "7.055607547249878e-06\n",
            "7.03366269037696e-06\n",
            "7.011856029601556e-06\n",
            "6.990186254958002e-06\n",
            "6.968652072979719e-06\n",
            "6.947252206440136e-06\n",
            "6.925985394099658e-06\n",
            "6.904850390455588e-06\n",
            "6.883845965498379e-06\n",
            "6.862970904471355e-06\n",
            "6.842224007635846e-06\n",
            "6.821604090039193e-06\n",
            "6.801109981288783e-06\n",
            "6.780740525328633e-06\n",
            "6.760494580220959e-06\n",
            "6.74037101793194e-06\n",
            "6.720368724120611e-06\n",
            "6.700486597931729e-06\n",
            "6.680723551793029e-06\n",
            "6.661078511215395e-06\n",
            "6.641550414597241e-06\n",
            "6.622138213031649e-06\n",
            "6.602840870117686e-06\n",
            "6.583657361774563e-06\n",
            "6.564586676059499e-06\n",
            "6.545627812988566e-06\n",
            "6.526779784360497e-06\n",
            "6.508041613584145e-06\n",
            "6.48941233550834e-06\n",
            "6.4708909962553145e-06\n",
            "6.452476653056695e-06\n",
            "6.434168374092162e-06\n",
            "6.415965238331548e-06\n",
            "6.397866335378919e-06\n",
            "6.379870765319678e-06\n",
            "6.3619776385708e-06\n",
            "6.344186075732481e-06\n",
            "6.326495207443366e-06\n",
            "6.308904174237827e-06\n",
            "6.291412126405708e-06\n",
            "6.274018223854269e-06\n",
            "6.25672163597281e-06\n",
            "6.239521541499393e-06\n",
            "6.222417128389577e-06\n",
            "6.20540759368802e-06\n",
            "6.1884921434014895e-06\n",
            "6.171669992374245e-06\n",
            "6.154940364165775e-06\n",
            "6.138302490930182e-06\n",
            "6.121755613297609e-06\n",
            "6.105298980257828e-06\n",
            "6.088931849045894e-06\n",
            "6.072653485028721e-06\n",
            "6.056463161595e-06\n",
            "6.040360160045657e-06\n",
            "6.024343769486431e-06\n",
            "6.008413286722608e-06\n",
            "5.992568016155249e-06\n",
            "5.976807269678676e-06\n",
            "5.961130366579999e-06\n",
            "5.945536633440275e-06\n",
            "5.930025404037326e-06\n",
            "5.9145960192496055e-06\n",
            "5.899247826962257e-06\n",
            "5.883980181974055e-06\n",
            "5.868792445906194e-06\n",
            "5.853683987112701e-06\n",
            "5.838654180591546e-06\n",
            "5.823702407898054e-06\n",
            "5.808828057058607e-06\n",
            "5.794030522487065e-06\n",
            "5.779309204901125e-06\n",
            "5.764663511240734e-06\n",
            "5.7500928545878e-06\n",
            "5.735596654086746e-06\n",
            "5.7211743348664866e-06\n",
            "5.706825327963738e-06\n",
            "5.692549070247475e-06\n",
            "5.6783450043442135e-06\n",
            "5.664212578564842e-06\n",
            "5.650151246832273e-06\n",
            "5.636160468610469e-06\n",
            "5.622239708834327e-06\n",
            "5.6083884378408545e-06\n",
            "5.594606131300775e-06\n",
            "5.580892270152077e-06\n",
            "5.5672463405339185e-06\n",
            "5.553667833721649e-06\n",
            "5.540156246063058e-06\n",
            "5.526711078915173e-06\n",
            "5.513331838581962e-06\n",
            "5.500018036253681e-06\n",
            "5.486769187946454e-06\n",
            "5.473584814442571e-06\n",
            "5.4604644412325696e-06\n",
            "5.447407598457103e-06\n",
            "5.4344138208504615e-06\n",
            "5.421482647684505e-06\n",
            "5.408613622713602e-06\n",
            "5.395806294120069e-06\n",
            "5.383060214461018e-06\n",
            "5.37037494061507e-06\n",
            "5.357750033730869e-06\n",
            "5.345185059175271e-06\n",
            "5.332679586483473e-06\n",
            "5.320233189308581e-06\n",
            "5.3078454453729035e-06\n",
            "5.2955159364192e-06\n",
            "5.283244248163629e-06\n",
            "5.271029970247728e-06\n",
            "5.25887269619315e-06\n",
            "5.24677202335514e-06\n",
            "5.2347275528779234e-06\n",
            "5.22273888964995e-06\n",
            "5.2108056422602e-06\n",
            "5.198927422955312e-06\n",
            "5.187103847596497e-06\n",
            "5.175334535617927e-06\n",
            "5.163619109984961e-06\n",
            "5.15195719715367e-06\n",
            "5.140348427030422e-06\n",
            "5.12879243293202e-06\n",
            "5.117288851546676e-06\n",
            "5.105837322895326e-06\n",
            "5.094437490293718e-06\n",
            "5.083089000314437e-06\n",
            "5.071791502750278e-06\n",
            "5.06054465057741e-06\n",
            "5.049348099919338e-06\n",
            "5.038201510011334e-06\n",
            "5.027104543165375e-06\n",
            "5.016056864735506e-06\n",
            "5.005058143083734e-06\n",
            "4.994108049546179e-06\n",
            "4.983206258399922e-06\n",
            "4.9723524468303605e-06\n",
            "4.961546294898507e-06\n",
            "4.950787485509395e-06\n",
            "4.940075704380178e-06\n",
            "4.929410640009329e-06\n",
            "4.918791983646166e-06\n",
            "4.908219429260062e-06\n",
            "4.897692673510831e-06\n",
            "4.8872114157192385e-06\n",
            "4.876775357837995e-06\n",
            "4.866384204422813e-06\n",
            "4.8560376626042845e-06\n",
            "4.845735442059549e-06\n",
            "4.835477254985272e-06\n",
            "4.8252628160699285e-06\n",
            "4.815091842466907e-06\n",
            "4.8049640537684136e-06\n",
            "4.794879171978629e-06\n",
            "4.7848369214883305e-06\n",
            "4.77483702904907e-06\n",
            "4.764879223748153e-06\n",
            "4.754963236983455e-06\n",
            "4.745088802439401e-06\n",
            "4.735255656062034e-06\n",
            "4.725463536035483e-06\n",
            "4.715712182758269e-06\n",
            "4.706001338819815e-06\n",
            "4.696330748977419e-06\n",
            "4.686700160133867e-06\n",
            "4.677109321314219e-06\n",
            "4.667557983644193e-06\n",
            "4.658045900328078e-06\n",
            "4.648572826627129e-06\n",
            "4.639138519838002e-06\n",
            "4.629742739271842e-06\n",
            "4.620385246233519e-06\n",
            "4.611065804000766e-06\n",
            "4.601784177804009e-06\n",
            "4.5925401348061795e-06\n",
            "4.5833334440830046e-06\n",
            "4.5741638766033306e-06\n",
            "4.565031205209944e-06\n",
            "4.555935204600092e-06\n",
            "4.5468756513069515e-06\n",
            "4.537852323680647e-06\n"
          ],
          "name": "stdout"
        }
      ]
    },
    {
      "cell_type": "markdown",
      "metadata": {
        "id": "pphConssjXKq",
        "colab_type": "text"
      },
      "source": [
        "Obtained loss in function of the epoch during the training."
      ]
    },
    {
      "cell_type": "code",
      "metadata": {
        "id": "1JtXrMvGhN9T",
        "colab_type": "code",
        "outputId": "111a840f-a2b9-452d-e909-23a42c40cb7e",
        "colab": {
          "base_uri": "https://localhost:8080/",
          "height": 283
        }
      },
      "source": [
        "epochs = np.linspace(0,len(loss)*interval,len(loss))\n",
        "plt.plot(epochs,np.array(loss),label=\"loss\")\n",
        "plt.ylabel(\"loss\")\n",
        "plt.xlabel(\"epochs\")\n",
        "plt.axis([0,len(loss)*interval,0,0.2])\n",
        "plt.legend()\n",
        "plt.show()"
      ],
      "execution_count": 0,
      "outputs": [
        {
          "output_type": "display_data",
          "data": {
            "image/png": "[encoded data removed]",
            "text/plain": [
              "<Figure size 432x288 with 1 Axes>"
            ]
          },
          "metadata": {
            "tags": []
          }
        }
      ]
    },
    {
      "cell_type": "markdown",
      "metadata": {
        "id": "eezLJ5c8jlMv",
        "colab_type": "text"
      },
      "source": [
        "Visualization of the area designated for each of the two classes."
      ]
    },
    {
      "cell_type": "code",
      "metadata": {
        "id": "7I9ftLQVhOcb",
        "colab_type": "code",
        "outputId": "e721b34c-5b1a-482d-ec7a-ebb02fa5f8bd",
        "colab": {
          "base_uri": "https://localhost:8080/",
          "height": 269
        }
      },
      "source": [
        "_x0 = np.linspace(-1.5, 1.5, 50)\n",
        "_x1 = np.linspace(-1.5, 1.5, 50)\n",
        "_Y = np.zeros((50,50))\n",
        "for i,x0 in enumerate(_x0):\n",
        "    for j,x1 in enumerate(_x1):\n",
        "        _Y[i, j] = train(neural_net,[x0,x1],Y=None,l2_cost=None,f=sigm,df=None,train=False)\n",
        "\n",
        "plt.pcolormesh(_x0, _x1, _Y, cmap=\"coolwarm\")\n",
        "plt.axis(\"equal\")\n",
        "plt.scatter(X[Y[:, 0] == 0, 0], X[Y[:, 0] == 0, 1], c=\"cyan\")\n",
        "plt.scatter(X[Y[:, 0] == 1, 0], X[Y[:, 0] == 1, 1], c=\"purple\")\n",
        "plt.show()"
      ],
      "execution_count": 0,
      "outputs": [
        {
          "output_type": "display_data",
          "data": {
            "image/png": "[encoded data removed]",
            "text/plain": [
              "<Figure size 432x288 with 1 Axes>"
            ]
          },
          "metadata": {
            "tags": []
          }
        }
      ]
    }
  ]
}